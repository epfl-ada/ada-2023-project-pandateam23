{
 "cells": [
  {
   "cell_type": "markdown",
   "metadata": {},
   "source": [
    "# REMARKS\n",
    "- Everybody: Error barsssss in plots\n",
    "- Everybody: Use Pearson coefficients to check for trends\n",
    "\n",
    "- Pico: Look at last block (See if it's interesting)\n",
    "\n",
    "actor_year_df.groupby('Year').mean().reset_index().plot(x='Year',y='Recognition Coefficient')\n",
    "\n",
    "- André + Pico: Think about How to Normalize?\n",
    "\n",
    "- André + Pico:Pico: See if there are other visualizations we could use\n",
    "\n",
    "- André + Pico: Any pearson coefficient to show trends\n",
    "\n",
    "- André + Pico: Plot revenue before normalization to show it's heavy tailed\n",
    "\n",
    "- Diego: parle de cumulative inflation dans les methodes peut etre\n",
    "- André + Nicolas: How do we handle missing dates?(can we scrape them?)\n",
    "- André: lower case actors?\n",
    "- Diego: Explique que: \"for now the constants we're using are just empirical constants, we will need to tune them after\"\n",
    "\n",
    "- André: How many famous actors per year?\n",
    "\n",
    "\n",
    "\n",
    "- Diego: Parle de Social media dataset (si onn trouve une qui existe) et voir si ca valide nos predictions\n",
    "\n",
    "\n",
    "CHANGES NOT TO FORGET\n",
    "- for fame Mean or sum?\n",
    "\n",
    "actor_movie_year = actor_popularity_movie_coef.groupby(['Actor Name', 'Year'])['Recognition Coefficient'].mean().reset_index()\n",
    "\n",
    "- Change 20 years to 5 years\n",
    "\n",
    "\n",
    "- These were not needed\n",
    "\n",
    "actor_movie_year['Year'] = actor_movie_year['Year'].replace(1010, 2010)\n",
    "actor_movie_year = actor_movie_year[actor_movie_year['Year'] >= 1914]\n",
    "\n",
    "pd.set_option('display.max_columns', None)\n",
    "\n"
   ]
  },
  {
   "cell_type": "markdown",
   "metadata": {},
   "source": [
    "## Loading data"
   ]
  },
  {
   "cell_type": "code",
   "execution_count": 1,
   "metadata": {},
   "outputs": [
    {
     "name": "stderr",
     "output_type": "stream",
     "text": [
      "c:\\Users\\andre\\Anaconda\\lib\\site-packages\\scipy\\__init__.py:155: UserWarning: A NumPy version >=1.18.5 and <1.25.0 is required for this version of SciPy (detected version 1.26.1\n",
      "  warnings.warn(f\"A NumPy version >={np_minversion} and <{np_maxversion}\"\n"
     ]
    }
   ],
   "source": [
    "import pandas as pd\n",
    "import matplotlib.pyplot as plt\n",
    "import numpy as np\n",
    "from sklearn.preprocessing import MinMaxScaler\n",
    "from sklearn.preprocessing import StandardScaler\n",
    "from datetime import datetime as dt\n"
   ]
  },
  {
   "cell_type": "code",
   "execution_count": 2,
   "metadata": {},
   "outputs": [
    {
     "name": "stderr",
     "output_type": "stream",
     "text": [
      "C:\\Users\\andre\\AppData\\Local\\Temp\\ipykernel_31468\\1262017686.py:6: DtypeWarning: Columns (10) have mixed types. Specify dtype option on import or set low_memory=False.\n",
      "  TheMoviesDataset = pd.read_csv('./data/TheMoviesDataset/movies_metadata.csv')\n"
     ]
    }
   ],
   "source": [
    "character = pd.read_csv('./data/MovieSummaries/character.metadata.tsv', sep='\\t', header=None)\n",
    "movie = pd.read_csv('./data/MovieSummaries/movie.metadata.tsv', sep='\\t', header=None)\n",
    "plot_summaries = pd.read_csv('./data/MovieSummaries/plot_summaries.txt', sep='\\t', header=None)\n",
    "IMDb_data = pd.read_csv('./data/IMDb/akas.tsv', sep='\\t', dtype={7: str})\n",
    "IMDb_ratings = pd.read_csv('./data/IMDb/ratings.tsv', sep='\\t')\n",
    "TheMoviesDataset = pd.read_csv('./data/TheMoviesDataset/movies_metadata.csv')\n",
    "mojo_int1000 = pd.read_csv('./data/Mojo/boxofficemojointernationaltop1000.tsv', sep='\\t')\n",
    "mojo_us1000 = pd.read_csv('./data/Mojo/boxofficemojoustop1000.tsv', sep='\\t')\n",
    "inflation = pd.read_excel('./data/Inflation/Inflation-data.xlsx', sheet_name='hcpi_a')"
   ]
  },
  {
   "cell_type": "code",
   "execution_count": 200,
   "metadata": {},
   "outputs": [
    {
     "name": "stderr",
     "output_type": "stream",
     "text": [
      "C:\\Users\\andre\\AppData\\Local\\Temp\\ipykernel_23656\\778725604.py:1: DtypeWarning: Columns (10) have mixed types. Specify dtype option on import or set low_memory=False.\n",
      "  TheMoviesDataset = pd.read_csv('./data/TheMoviesDataset/movies_metadata.csv')\n"
     ]
    }
   ],
   "source": [
    "TheMoviesDataset = pd.read_csv('./data/TheMoviesDataset/movies_metadata.csv')\n",
    "mojo_int1000 = pd.read_csv('./data/Mojo/boxofficemojointernationaltop1000.tsv', sep='\\t')\n",
    "mojo_us1000 = pd.read_csv('./data/Mojo/boxofficemojoustop1000.tsv', sep='\\t')"
   ]
  },
  {
   "cell_type": "code",
   "execution_count": 5,
   "metadata": {},
   "outputs": [],
   "source": [
    "# Adding column names\n",
    "movie_columns = [\"Wikipedia movie ID\", \"Freebase movie ID\", \"Movie name\", \"Movie release date\", \"Movie box office revenue\", \"Movie runtime\", \"Movie languages (Freebase ID:name tuples)\", \"Movie countries (Freebase ID:name tuples)\", \"Movie genres (Freebase ID:name tuples)\"]\n",
    "character_columns = [\"Wikipedia movie ID\", \"Freebase movie ID\", \"Movie release date\", \"Character name\", \"Actor date of birth\", \"Actor gender\", \"Actor height (in meters)\", \"Actor ethnicity (Freebase ID)\", \"Actor name\", \"Actor age at movie release\", \"Freebase character/actor map ID\", \"Freebase character ID\", \"Freebase actor ID\"]\n",
    "plot_summaries_columns = [\"Wikipedia movie ID\", \"Plot summary\"]\n",
    "movie.columns = movie_columns\n",
    "character.columns = character_columns\n",
    "plot_summaries.columns = plot_summaries_columns"
   ]
  },
  {
   "cell_type": "markdown",
   "metadata": {},
   "source": [
    "# Preprocessing"
   ]
  },
  {
   "cell_type": "markdown",
   "metadata": {},
   "source": [
    "## Prepare the inflation dataframe"
   ]
  },
  {
   "cell_type": "code",
   "execution_count": 101,
   "metadata": {},
   "outputs": [
    {
     "name": "stderr",
     "output_type": "stream",
     "text": [
      "C:\\Users\\andre\\AppData\\Local\\Temp\\ipykernel_31468\\2945748275.py:18: FutureWarning: The frame.append method is deprecated and will be removed from pandas in a future version. Use pandas.concat instead.\n",
      "  additional_years = additional_years.append({'Year':0,'Inflation':0}, ignore_index=True)\n"
     ]
    },
    {
     "data": {
      "text/html": [
       "<div>\n",
       "<style scoped>\n",
       "    .dataframe tbody tr th:only-of-type {\n",
       "        vertical-align: middle;\n",
       "    }\n",
       "\n",
       "    .dataframe tbody tr th {\n",
       "        vertical-align: top;\n",
       "    }\n",
       "\n",
       "    .dataframe thead th {\n",
       "        text-align: right;\n",
       "    }\n",
       "</style>\n",
       "<table border=\"1\" class=\"dataframe\">\n",
       "  <thead>\n",
       "    <tr style=\"text-align: right;\">\n",
       "      <th></th>\n",
       "      <th>Year</th>\n",
       "      <th>Inflation</th>\n",
       "      <th>Cumulative Inflation</th>\n",
       "    </tr>\n",
       "  </thead>\n",
       "  <tbody>\n",
       "    <tr>\n",
       "      <th>109</th>\n",
       "      <td>0.0</td>\n",
       "      <td>0</td>\n",
       "      <td>1.0</td>\n",
       "    </tr>\n",
       "    <tr>\n",
       "      <th>53</th>\n",
       "      <td>1914.0</td>\n",
       "      <td>0</td>\n",
       "      <td>1.0</td>\n",
       "    </tr>\n",
       "  </tbody>\n",
       "</table>\n",
       "</div>"
      ],
      "text/plain": [
       "       Year Inflation  Cumulative Inflation\n",
       "109     0.0         0                   1.0\n",
       "53   1914.0         0                   1.0"
      ]
     },
     "execution_count": 101,
     "metadata": {},
     "output_type": "execute_result"
    }
   ],
   "source": [
    "# Considering inflation in the US as a baseline\n",
    "inflation_us = inflation[inflation['Country Code']=='USA']\n",
    "\n",
    "# Melt the DataFrame to reshape it\n",
    "melted_inflation = pd.melt(inflation_us, id_vars=['Country Code', 'IMF Country Code', 'Country', 'Indicator Type', 'Series Name'], var_name='Year', value_name='Inflation')\n",
    "\n",
    "# Convert the \"Year\" column to numeric\n",
    "melted_inflation['Year'] = pd.to_numeric(melted_inflation['Year'], errors='coerce')\n",
    "\n",
    "# Select relevant columns\n",
    "melted_inflation = melted_inflation[['Year','Inflation']]\n",
    "melted_inflation = melted_inflation.iloc[:-2]\n",
    "\n",
    "# Create a DataFrame with years from 1914 to 1969 and 'inflation' set to 0 (To account for missing inflation values)\n",
    "additional_years = pd.DataFrame({'Year': range(1914, 1970), 'Inflation': 0})\n",
    "\n",
    "# Add a year 0 for missing years\n",
    "additional_years = additional_years.append({'Year':0,'Inflation':0}, ignore_index=True)\n",
    "\n",
    "\n",
    "# Merge the additional_years DataFrame with melted_inflation (Adding 0 inflation to missing years)\n",
    "melted_inflation = pd.concat([melted_inflation, additional_years], ignore_index=True, sort=False)\n",
    "\n",
    "# Sort the DataFrame\n",
    "melted_inflation = melted_inflation.sort_values(by='Year')\n",
    "\n",
    "# Calculate cumulative inflation to adapt revenues further\n",
    "melted_inflation['Cumulative Inflation'] = (melted_inflation['Inflation'].astype(float)/100 + 1).cumprod()\n",
    "\n",
    "melted_inflation.head(2)"
   ]
  },
  {
   "cell_type": "markdown",
   "metadata": {},
   "source": [
    "## Merging the dataframes\n",
    "Several datasets are used in this notebook, we need to merge several dataframes. Namely ...."
   ]
  },
  {
   "cell_type": "code",
   "execution_count": 7,
   "metadata": {},
   "outputs": [],
   "source": [
    "# Merge movies and actors based on the Movie ID\n",
    "movie_actor = pd.merge(movie, character, how=\"left\", on=[\"Wikipedia movie ID\",\"Freebase movie ID\"])\n",
    "\n",
    "# Merge IMDb ratings with the corresponding Movie title\n",
    "IMDb_combined = pd.merge(IMDb_data,IMDb_ratings,left_on='titleId',right_on='tconst')\n",
    "\n",
    "# Getting lower cases movie title to merge on titles\n",
    "movie_actor['title_lower'] = movie_actor['Movie name'].str.lower()\n",
    "IMDb_combined['title_lower'] = IMDb_combined['title'].str.lower()\n",
    "\n",
    "# Average different ratings for same Movie\n",
    "IMDb_combined_mean = IMDb_combined[['title_lower','averageRating']].groupby(['title_lower']).mean()\n",
    "IMDb_combined_mean.reset_index(inplace=True)\n",
    "\n",
    "# Merge IMDb ratings with the movies and actors dataframe\n",
    "movie_actor_IMDb = pd.merge(movie_actor,IMDb_combined_mean[['title_lower','averageRating']],on='title_lower')"
   ]
  },
  {
   "cell_type": "code",
   "execution_count": 8,
   "metadata": {},
   "outputs": [],
   "source": [
    "movie_actor_IMDb = pd.merge(movie_actor,IMDb_combined_mean[['title_lower','averageRating']],on='title_lower')"
   ]
  },
  {
   "cell_type": "markdown",
   "metadata": {},
   "source": [
    "### Enrich dataframe with other datasets\n"
   ]
  },
  {
   "cell_type": "code",
   "execution_count": 9,
   "metadata": {},
   "outputs": [
    {
     "name": "stdout",
     "output_type": "stream",
     "text": [
      "Numer of missing Box office values 328373\n",
      "Numer of missing release dates values 328373\n",
      "\n",
      "Numer of missing Box office values 306714\n",
      "Numer of missing release dates values 9962\n",
      "\n",
      "Numer of missing Box office values 306478\n",
      "Numer of missing release dates values 9952\n",
      "\n",
      "Numer of missing Box office values 306305\n",
      "Numer of missing release dates values 9943\n",
      "\n"
     ]
    }
   ],
   "source": [
    "# Add missing Box office values and missing release dates from other datasets (Mojo & The Movies Datset)\n",
    "\n",
    "# Define a list of datasets to merge\n",
    "datasets = [\n",
    "    (TheMoviesDataset, 'original_title', 'revenue','release_date'),\n",
    "    (mojo_us1000, 'Movie', 'Lifetime Gross','Year'),\n",
    "    (mojo_int1000, 'Title', 'Worldwide Lifetime Gross','Year')\n",
    "]\n",
    "\n",
    "# Show that number of Nan values decreases\n",
    "print(\"Numer of missing Box office values\",movie_actor_IMDb['Movie box office revenue'].isna().sum())\n",
    "print(\"Numer of missing release dates values\",movie_actor_IMDb['Movie box office revenue'].isna().sum())\n",
    "print(\"\")\n",
    "\n",
    "# Iterate through the datasets and merge\n",
    "for dataset, movie_column, revenue_column, date_column in datasets:\n",
    "    # Remove rows that have revenue = 0\n",
    "    dataset=dataset[dataset[revenue_column]!=0.0]\n",
    "\n",
    "    # Getting lower cases movie title to merge on titles\n",
    "    dataset = dataset.copy()\n",
    "    dataset['title_lower'] = dataset[movie_column].str.lower()\n",
    "\n",
    "    # Grouping same movie names of dataset\n",
    "    dataset = dataset.groupby('title_lower').agg({f'{revenue_column}': 'mean', f'{date_column}': 'first'}).reset_index()\n",
    "\n",
    "    # Add missing values\n",
    "    movie_actor_IMDb = pd.merge(movie_actor_IMDb, dataset[['title_lower', revenue_column, date_column]], on='title_lower', how='left')\n",
    "    movie_actor_IMDb['Movie box office revenue'] = movie_actor_IMDb['Movie box office revenue'].fillna(movie_actor_IMDb[revenue_column])\n",
    "    movie_actor_IMDb['Movie release date_x'] = movie_actor_IMDb['Movie release date_x'].fillna(movie_actor_IMDb[date_column])\n",
    "    movie_actor_IMDb.drop([revenue_column,date_column], axis=1,inplace=True)\n",
    "\n",
    "    # Show that number of Nan values decreases\n",
    "    print(\"Numer of missing Box office values\",movie_actor_IMDb['Movie box office revenue'].isna().sum())\n",
    "    print(\"Numer of missing release dates values\",movie_actor_IMDb['Movie release date_x'].isna().sum())\n",
    "    print(\"\")\n",
    "\n",
    "movie_actor_IMDb.drop_duplicates(subset=['Actor name', 'Movie name', 'Movie release date_x'], inplace=True)"
   ]
  },
  {
   "cell_type": "markdown",
   "metadata": {},
   "source": [
    "### Handle missing values"
   ]
  },
  {
   "cell_type": "markdown",
   "metadata": {},
   "source": [
    "As we can see there are still missing release dates and missing box office revenues, those values need to be handled. Instead of removing any row that has a NaN value, which would lead to a lot of information loss (since we could have other information about the movie). We replace the NaN values in Box office and release dates by zero."
   ]
  },
  {
   "cell_type": "code",
   "execution_count": 10,
   "metadata": {},
   "outputs": [],
   "source": [
    "# Convert Nans to 0\n",
    "movie_actor_IMDb['Movie box office revenue'] = movie_actor_IMDb['Movie box office revenue'].fillna(0)\n",
    "movie_actor_IMDb['Movie release date_x'] = movie_actor_IMDb['Movie release date_x'].fillna(0)"
   ]
  },
  {
   "cell_type": "markdown",
   "metadata": {},
   "source": [
    "Moreover, there are some actor names missing. Since our analysis relies on actors, if the actor's name is missing, then the corresponding row wouldn't be useful. Therefore we remove rows that have missing actor names"
   ]
  },
  {
   "cell_type": "code",
   "execution_count": 11,
   "metadata": {},
   "outputs": [
    {
     "data": {
      "text/plain": [
       "13085"
      ]
     },
     "execution_count": 11,
     "metadata": {},
     "output_type": "execute_result"
    }
   ],
   "source": [
    "movie_actor_IMDb['Actor name'].isna().sum()"
   ]
  },
  {
   "cell_type": "code",
   "execution_count": 12,
   "metadata": {},
   "outputs": [],
   "source": [
    "# Remove rows that have missing actor names\n",
    "movie_actor_IMDb.dropna(subset='Actor name', inplace=True)"
   ]
  },
  {
   "cell_type": "markdown",
   "metadata": {},
   "source": [
    "### Adapt Box office with inflation"
   ]
  },
  {
   "cell_type": "markdown",
   "metadata": {},
   "source": [
    "Since the value of the US dollar changes with time, we need to adapt the box office values to a comparable scale. To do so, the idea is to divide the Movie box office revenue by the Cumulative Inflation. That's what is done below\n"
   ]
  },
  {
   "cell_type": "code",
   "execution_count": 13,
   "metadata": {},
   "outputs": [],
   "source": [
    "# Transform Movie release date from string to date\n",
    "movie_actor_IMDb[\"Movie release date_x\"] = pd.to_datetime(\n",
    "    movie_actor_IMDb[\"Movie release date_x\"], errors=\"coerce\", utc=True\n",
    ")\n",
    "# Extract year from Movie release date\n",
    "movie_actor_IMDb[\"Year\"] = pd.DatetimeIndex(movie_actor_IMDb[\"Movie release date_x\"]).year\n",
    "\n",
    "movie_actor_IMDb_inflation = pd.merge(movie_actor_IMDb,melted_inflation[['Year','Cumulative Inflation']])\n",
    "\n",
    "# Calculate Adapted Movie Box Office Revenue  \n",
    "movie_actor_IMDb_inflation['Adapted Movie box office revenue'] = movie_actor_IMDb_inflation['Movie box office revenue']/movie_actor_IMDb_inflation['Cumulative Inflation']"
   ]
  },
  {
   "cell_type": "markdown",
   "metadata": {},
   "source": [
    "The dataframe we have now has a row for each unique movie and actor pair.\n",
    "\n",
    "For each row, the important data we have is:\n",
    "- The Adapted Movie box office revenue\n",
    "- The rating of the movie\n",
    "- The release date of the movie\n",
    "- The age of the actor and his date of birth\n",
    "- The ethnicity of the actor\n",
    "- The gender of the actor"
   ]
  },
  {
   "cell_type": "markdown",
   "metadata": {},
   "source": [
    "# Actor Recognition Coefficients\n",
    "DIEGO: Parler un peu"
   ]
  },
  {
   "cell_type": "code",
   "execution_count": 14,
   "metadata": {},
   "outputs": [
    {
     "data": {
      "text/html": [
       "<div>\n",
       "<style scoped>\n",
       "    .dataframe tbody tr th:only-of-type {\n",
       "        vertical-align: middle;\n",
       "    }\n",
       "\n",
       "    .dataframe tbody tr th {\n",
       "        vertical-align: top;\n",
       "    }\n",
       "\n",
       "    .dataframe thead th {\n",
       "        text-align: right;\n",
       "    }\n",
       "</style>\n",
       "<table border=\"1\" class=\"dataframe\">\n",
       "  <thead>\n",
       "    <tr style=\"text-align: right;\">\n",
       "      <th></th>\n",
       "      <th>Actor Name</th>\n",
       "      <th>Movie name</th>\n",
       "      <th>Date</th>\n",
       "      <th>Rating</th>\n",
       "      <th>Revenue</th>\n",
       "      <th>Actor date of birth</th>\n",
       "      <th>Actor gender</th>\n",
       "      <th>Actor ethnicity (Freebase ID)</th>\n",
       "      <th>Actor age at movie release</th>\n",
       "      <th>Year</th>\n",
       "    </tr>\n",
       "  </thead>\n",
       "  <tbody>\n",
       "    <tr>\n",
       "      <th>409759</th>\n",
       "      <td>Nicky Wu</td>\n",
       "      <td>The Lovers</td>\n",
       "      <td>2017-05-05 00:00:00+00:00</td>\n",
       "      <td>6.767797</td>\n",
       "      <td>32018.70657</td>\n",
       "      <td>1970-10-31</td>\n",
       "      <td>M</td>\n",
       "      <td>NaN</td>\n",
       "      <td>NaN</td>\n",
       "      <td>2017.0</td>\n",
       "    </tr>\n",
       "  </tbody>\n",
       "</table>\n",
       "</div>"
      ],
      "text/plain": [
       "       Actor Name  Movie name                      Date    Rating  \\\n",
       "409759   Nicky Wu  The Lovers 2017-05-05 00:00:00+00:00  6.767797   \n",
       "\n",
       "            Revenue Actor date of birth Actor gender  \\\n",
       "409759  32018.70657          1970-10-31            M   \n",
       "\n",
       "       Actor ethnicity (Freebase ID)  Actor age at movie release    Year  \n",
       "409759                           NaN                         NaN  2017.0  "
      ]
     },
     "execution_count": 14,
     "metadata": {},
     "output_type": "execute_result"
    }
   ],
   "source": [
    "# Conserve relevant columns\n",
    "columns_to_conserve = ['Actor name', 'Movie name', 'Movie release date_x', 'averageRating',\\\n",
    "                       'Adapted Movie box office revenue','Actor date of birth','Actor gender',\\\n",
    "                        'Actor ethnicity (Freebase ID)','Actor age at movie release' ,'Year']\n",
    "\n",
    "conserved_df = movie_actor_IMDb_inflation[columns_to_conserve].copy()\n",
    "\n",
    "conserved_df.columns = ['Actor Name', 'Movie name', 'Date', 'Rating',\\\n",
    "                       'Revenue','Actor date of birth','Actor gender',\\\n",
    "                        'Actor ethnicity (Freebase ID)','Actor age at movie release' ,'Year']\n",
    "\n",
    "conserved_df = conserved_df.sort_values(by='Year', ascending=False)\n",
    "\n",
    "conserved_df.head(2)"
   ]
  },
  {
   "cell_type": "markdown",
   "metadata": {},
   "source": [
    "### Remove actors who have less than 5 movies\n",
    "As a first preprocessing step we remove actors that have less than 2 movies, in order to reduce the computation time, since we consider that they won't be very well-recognized actors"
   ]
  },
  {
   "cell_type": "code",
   "execution_count": 15,
   "metadata": {},
   "outputs": [],
   "source": [
    "# Remove actors who have less than 5 movies\n",
    "actor_movie_counts = conserved_df['Actor Name'].value_counts()\n",
    "actors_with_10_or_more_movies = actor_movie_counts[actor_movie_counts >= 20].index\n",
    "filtered_df = conserved_df[conserved_df['Actor Name'].isin(actors_with_10_or_more_movies)]"
   ]
  },
  {
   "cell_type": "markdown",
   "metadata": {},
   "source": [
    "### Normalize rating and revenue (TO BE DECIDED)"
   ]
  },
  {
   "cell_type": "code",
   "execution_count": 117,
   "metadata": {},
   "outputs": [
    {
     "data": {
      "image/png": "[encoded data removed]",
      "text/plain": [
       "<Figure size 640x480 with 1 Axes>"
      ]
     },
     "metadata": {},
     "output_type": "display_data"
    }
   ],
   "source": [
    "# Showing that revenue is heavy-tailed right skewed\n",
    "# filtered_df.hist(['Revenue'],bins=20)\n",
    "revenue_array = plt.hist(filtered_df['Revenue'], bins=1000000, density=True, cumulative=-1,\n",
    "                               color='blue', histtype='step', label=\"Revenue\")\n",
    "plt.show()\n",
    "# NEED A BETTERRR VISUALIZATIONN !!  CCDF??"
   ]
  },
  {
   "cell_type": "code",
   "execution_count": 122,
   "metadata": {},
   "outputs": [
    {
     "data": {
      "image/png": "[encoded data removed]",
      "text/plain": [
       "<Figure size 640x480 with 1 Axes>"
      ]
     },
     "metadata": {},
     "output_type": "display_data"
    }
   ],
   "source": [
    "plt.plot(revenue_array[1][1:], revenue_array[0], label=\"Left-handed pitchers\", color='blue')\n",
    "plt.xscale('log')\n",
    "plt.show()\n"
   ]
  },
  {
   "cell_type": "code",
   "execution_count": 123,
   "metadata": {},
   "outputs": [
    {
     "data": {
      "text/plain": [
       "array([[<AxesSubplot:title={'center':'Rating'}>]], dtype=object)"
      ]
     },
     "execution_count": 123,
     "metadata": {},
     "output_type": "execute_result"
    },
    {
     "data": {
      "image/png": "[encoded data removed]",
      "text/plain": [
       "<Figure size 640x480 with 1 Axes>"
      ]
     },
     "metadata": {},
     "output_type": "display_data"
    }
   ],
   "source": [
    "# Showing that rating is normal\n",
    "filtered_df.hist(['Rating'],bins=100)\n",
    "# ADD LABELS"
   ]
  },
  {
   "cell_type": "markdown",
   "metadata": {},
   "source": [
    "As we can see from the previous plots:\n",
    "- The Revenue of movies follows a right-skewed heavy-tailed distribution\n",
    "- The Rating of movies follows a normal-like distribution\n",
    "\n",
    "In order to normalize/scale these distributions, we use relevant techniques for each distribution:\n",
    "- For a heavy-tailed distribution, we apply a logarithmic transformation\n",
    "- For a normal distribution, we apply Z-score normalization\n",
    "\n",
    "After these two normalizations, we them apply Min/Max scaling to have the same scale for the two distribution"
   ]
  },
  {
   "cell_type": "code",
   "execution_count": 75,
   "metadata": {},
   "outputs": [],
   "source": [
    "# TRIAL!!!!!!!!!!!!!!!!!!!!!!!!!!!!11\n",
    "# APPLY LOG INSTEAD OF DIVIDING BY MAX\n",
    "\n",
    "# Assuming filtered_df is your DataFrame\n",
    "columns_to_scale = ['Revenue', 'Rating']\n",
    "actor_popularity_rank = filtered_df.copy()\n",
    "\n",
    "# Z-score scaling for Rating then min max\n",
    "actor_popularity_rank['Rating'] = (actor_popularity_rank['Rating'] - actor_popularity_rank['Rating'].mean()) / actor_popularity_rank['Rating'].std()\n",
    "actor_popularity_rank['Rating'] = (actor_popularity_rank['Rating']-actor_popularity_rank['Rating'].min())/(actor_popularity_rank['Rating'].max()-actor_popularity_rank['Rating'].min())\n",
    "\n",
    "\n",
    "# log Revenue then min max\n",
    "actor_popularity_rank.loc[actor_popularity_rank['Revenue'] < 1, 'Revenue'] = 1\n",
    "actor_popularity_rank['Revenue'] = actor_popularity_rank['Revenue'].apply(lambda x: np.log(x))\n",
    "actor_popularity_rank['Revenue'] = (actor_popularity_rank['Revenue']-actor_popularity_rank['Revenue'].min())/(actor_popularity_rank['Revenue'].max()-actor_popularity_rank['Revenue'].min())\n",
    "\n",
    "# Sort by 'Year' in descending order\n",
    "actor_popularity_rank = actor_popularity_rank.sort_values(by='Year', ascending=False)\n",
    "\n",
    "# Display the DataFrame\n",
    "# display(actor_popularity_rank)\n"
   ]
  },
  {
   "cell_type": "code",
   "execution_count": 17,
   "metadata": {},
   "outputs": [],
   "source": [
    "# # ## 1ST STEP: RANKIZE RATING AND REVENUE\n",
    "# columns_to_scale = ['Revenue', 'Rating']\n",
    "# actor_popularity_rank = filtered_df.copy()\n",
    "# ranks = filtered_df[columns_to_scale].rank()\n",
    "# # normalized_ranks to be between 0 and 1\n",
    "# normalized_ranks = (ranks - ranks.min()) / (ranks.max() - ranks.min())\n",
    "# actor_popularity_rank[columns_to_scale] = normalized_ranks\n",
    "# actor_popularity_rank = actor_popularity_rank.sort_values(by='Year', ascending=False)\n",
    "\n",
    "# # display(actor_popularity_rank)"
   ]
  },
  {
   "cell_type": "markdown",
   "metadata": {},
   "source": [
    "### Compute Actor Recognition Coefficient for each (Movie, Actor) pair\n",
    "We define the Actor Recognition Coefficient to be a weighted average between the movie revenue and its rating.\n",
    "\n",
    "DIEGO: WRITE FORMULA"
   ]
  },
  {
   "cell_type": "code",
   "execution_count": 76,
   "metadata": {},
   "outputs": [
    {
     "data": {
      "text/html": [
       "<div>\n",
       "<style scoped>\n",
       "    .dataframe tbody tr th:only-of-type {\n",
       "        vertical-align: middle;\n",
       "    }\n",
       "\n",
       "    .dataframe tbody tr th {\n",
       "        vertical-align: top;\n",
       "    }\n",
       "\n",
       "    .dataframe thead th {\n",
       "        text-align: right;\n",
       "    }\n",
       "</style>\n",
       "<table border=\"1\" class=\"dataframe\">\n",
       "  <thead>\n",
       "    <tr style=\"text-align: right;\">\n",
       "      <th></th>\n",
       "      <th>Actor Name</th>\n",
       "      <th>Movie name</th>\n",
       "      <th>Date</th>\n",
       "      <th>Rating</th>\n",
       "      <th>Revenue</th>\n",
       "      <th>Actor date of birth</th>\n",
       "      <th>Actor gender</th>\n",
       "      <th>Actor ethnicity (Freebase ID)</th>\n",
       "      <th>Actor age at movie release</th>\n",
       "      <th>Year</th>\n",
       "      <th>Recognition Coefficient</th>\n",
       "    </tr>\n",
       "  </thead>\n",
       "  <tbody>\n",
       "    <tr>\n",
       "      <th>59916</th>\n",
       "      <td>Peter Donat</td>\n",
       "      <td>The Godfather Part II</td>\n",
       "      <td>1974-12-12 00:00:00+00:00</td>\n",
       "      <td>0.888889</td>\n",
       "      <td>0.915076</td>\n",
       "      <td>1928-01-20</td>\n",
       "      <td>M</td>\n",
       "      <td>NaN</td>\n",
       "      <td>46.0</td>\n",
       "      <td>1974.0</td>\n",
       "      <td>0.901982</td>\n",
       "    </tr>\n",
       "    <tr>\n",
       "      <th>59931</th>\n",
       "      <td>Joe Spinell</td>\n",
       "      <td>The Godfather Part II</td>\n",
       "      <td>1974-12-12 00:00:00+00:00</td>\n",
       "      <td>0.888889</td>\n",
       "      <td>0.915076</td>\n",
       "      <td>1936-10-28</td>\n",
       "      <td>M</td>\n",
       "      <td>NaN</td>\n",
       "      <td>38.0</td>\n",
       "      <td>1974.0</td>\n",
       "      <td>0.901982</td>\n",
       "    </tr>\n",
       "  </tbody>\n",
       "</table>\n",
       "</div>"
      ],
      "text/plain": [
       "        Actor Name             Movie name                      Date    Rating  \\\n",
       "59916  Peter Donat  The Godfather Part II 1974-12-12 00:00:00+00:00  0.888889   \n",
       "59931  Joe Spinell  The Godfather Part II 1974-12-12 00:00:00+00:00  0.888889   \n",
       "\n",
       "        Revenue Actor date of birth Actor gender  \\\n",
       "59916  0.915076          1928-01-20            M   \n",
       "59931  0.915076          1936-10-28            M   \n",
       "\n",
       "      Actor ethnicity (Freebase ID)  Actor age at movie release    Year  \\\n",
       "59916                           NaN                        46.0  1974.0   \n",
       "59931                           NaN                        38.0  1974.0   \n",
       "\n",
       "       Recognition Coefficient  \n",
       "59916                 0.901982  \n",
       "59931                 0.901982  "
      ]
     },
     "execution_count": 76,
     "metadata": {},
     "output_type": "execute_result"
    }
   ],
   "source": [
    "# Compute Actor Recognition Coefficient for each (Movie, Actor) pair\n",
    "columns_to_scale = ['Revenue', 'Rating']\n",
    "\n",
    "#  Weights can be adjusted\n",
    "weights = [1, 1]\n",
    "actor_popularity_movie_coef = actor_popularity_rank\n",
    "\n",
    "# Calculate weighted average of normalized rating and normalized revenue\n",
    "actor_popularity_movie_coef['Recognition Coefficient'] = np.average(actor_popularity_rank[columns_to_scale], axis=1, weights=weights)\n",
    "\n",
    "actor_popularity_movie_coef = actor_popularity_movie_coef.sort_values(by='Recognition Coefficient',ascending=False)\n",
    "\n",
    "actor_popularity_movie_coef.head(2)"
   ]
  },
  {
   "cell_type": "markdown",
   "metadata": {},
   "source": [
    "### Compute Actor Recognition Coefficient for every Actor every Year\n",
    "This is done by taking the mean of the Recognition Coefficient of the movies the Actor played in each year"
   ]
  },
  {
   "cell_type": "code",
   "execution_count": 77,
   "metadata": {},
   "outputs": [
    {
     "data": {
      "text/html": [
       "<div>\n",
       "<style scoped>\n",
       "    .dataframe tbody tr th:only-of-type {\n",
       "        vertical-align: middle;\n",
       "    }\n",
       "\n",
       "    .dataframe tbody tr th {\n",
       "        vertical-align: top;\n",
       "    }\n",
       "\n",
       "    .dataframe thead th {\n",
       "        text-align: right;\n",
       "    }\n",
       "</style>\n",
       "<table border=\"1\" class=\"dataframe\">\n",
       "  <thead>\n",
       "    <tr style=\"text-align: right;\">\n",
       "      <th></th>\n",
       "      <th>Actor Name</th>\n",
       "      <th>Year</th>\n",
       "      <th>Recognition Coefficient</th>\n",
       "    </tr>\n",
       "  </thead>\n",
       "  <tbody>\n",
       "    <tr>\n",
       "      <th>56692</th>\n",
       "      <td>Roscoe Arbuckle</td>\n",
       "      <td>1914.0</td>\n",
       "      <td>0.277454</td>\n",
       "    </tr>\n",
       "    <tr>\n",
       "      <th>60568</th>\n",
       "      <td>Slim Summerville</td>\n",
       "      <td>1914.0</td>\n",
       "      <td>0.258333</td>\n",
       "    </tr>\n",
       "  </tbody>\n",
       "</table>\n",
       "</div>"
      ],
      "text/plain": [
       "             Actor Name    Year  Recognition Coefficient\n",
       "56692   Roscoe Arbuckle  1914.0                 0.277454\n",
       "60568  Slim Summerville  1914.0                 0.258333"
      ]
     },
     "execution_count": 77,
     "metadata": {},
     "output_type": "execute_result"
    }
   ],
   "source": [
    "# Compute Actor Recognition Coefficient for every Actor every Year\n",
    "actor_movie_year = actor_popularity_movie_coef.groupby(['Actor Name', 'Year'])['Recognition Coefficient'].mean().reset_index()\n",
    "\n",
    "actor_movie_year = actor_movie_year.sort_values(by='Year',ascending=True)\n",
    "\n",
    "actor_movie_year.head(2)"
   ]
  },
  {
   "cell_type": "markdown",
   "metadata": {},
   "source": [
    "### Expand the dataset to include entries for all actors in each year\n",
    "We're creating a DataFrame with all actor-year combinations from 1914 to 2012, putting the Actor Recognition Coefficient to zero if the actor does not have films in the corresponding year"
   ]
  },
  {
   "cell_type": "code",
   "execution_count": 78,
   "metadata": {},
   "outputs": [
    {
     "data": {
      "text/html": [
       "<div>\n",
       "<style scoped>\n",
       "    .dataframe tbody tr th:only-of-type {\n",
       "        vertical-align: middle;\n",
       "    }\n",
       "\n",
       "    .dataframe tbody tr th {\n",
       "        vertical-align: top;\n",
       "    }\n",
       "\n",
       "    .dataframe thead th {\n",
       "        text-align: right;\n",
       "    }\n",
       "</style>\n",
       "<table border=\"1\" class=\"dataframe\">\n",
       "  <thead>\n",
       "    <tr style=\"text-align: right;\">\n",
       "      <th></th>\n",
       "      <th>Actor Name</th>\n",
       "      <th>Year</th>\n",
       "      <th>Recognition Coefficient</th>\n",
       "    </tr>\n",
       "  </thead>\n",
       "  <tbody>\n",
       "    <tr>\n",
       "      <th>0</th>\n",
       "      <td>50 Cent</td>\n",
       "      <td>1914</td>\n",
       "      <td>0.000000</td>\n",
       "    </tr>\n",
       "    <tr>\n",
       "      <th>1</th>\n",
       "      <td>A.K Hangal</td>\n",
       "      <td>1914</td>\n",
       "      <td>0.000000</td>\n",
       "    </tr>\n",
       "    <tr>\n",
       "      <th>2</th>\n",
       "      <td>Aamir Khan</td>\n",
       "      <td>1914</td>\n",
       "      <td>0.000000</td>\n",
       "    </tr>\n",
       "    <tr>\n",
       "      <th>3</th>\n",
       "      <td>Aaron Eckhart</td>\n",
       "      <td>1914</td>\n",
       "      <td>0.000000</td>\n",
       "    </tr>\n",
       "    <tr>\n",
       "      <th>4</th>\n",
       "      <td>Aaron Kwok</td>\n",
       "      <td>1914</td>\n",
       "      <td>0.000000</td>\n",
       "    </tr>\n",
       "    <tr>\n",
       "      <th>...</th>\n",
       "      <td>...</td>\n",
       "      <td>...</td>\n",
       "      <td>...</td>\n",
       "    </tr>\n",
       "    <tr>\n",
       "      <th>349663</th>\n",
       "      <td>Zooey Deschanel</td>\n",
       "      <td>2012</td>\n",
       "      <td>0.000000</td>\n",
       "    </tr>\n",
       "    <tr>\n",
       "      <th>349664</th>\n",
       "      <td>Zsa Zsa Gábor</td>\n",
       "      <td>2012</td>\n",
       "      <td>0.000000</td>\n",
       "    </tr>\n",
       "    <tr>\n",
       "      <th>349665</th>\n",
       "      <td>Ángela Molina</td>\n",
       "      <td>2012</td>\n",
       "      <td>0.000000</td>\n",
       "    </tr>\n",
       "    <tr>\n",
       "      <th>349666</th>\n",
       "      <td>Édith Scob</td>\n",
       "      <td>2012</td>\n",
       "      <td>0.614367</td>\n",
       "    </tr>\n",
       "    <tr>\n",
       "      <th>349667</th>\n",
       "      <td>Željko Ivanek</td>\n",
       "      <td>2012</td>\n",
       "      <td>0.712241</td>\n",
       "    </tr>\n",
       "  </tbody>\n",
       "</table>\n",
       "<p>349668 rows × 3 columns</p>\n",
       "</div>"
      ],
      "text/plain": [
       "             Actor Name  Year  Recognition Coefficient\n",
       "0               50 Cent  1914                 0.000000\n",
       "1            A.K Hangal  1914                 0.000000\n",
       "2            Aamir Khan  1914                 0.000000\n",
       "3         Aaron Eckhart  1914                 0.000000\n",
       "4            Aaron Kwok  1914                 0.000000\n",
       "...                 ...   ...                      ...\n",
       "349663  Zooey Deschanel  2012                 0.000000\n",
       "349664    Zsa Zsa Gábor  2012                 0.000000\n",
       "349665    Ángela Molina  2012                 0.000000\n",
       "349666       Édith Scob  2012                 0.614367\n",
       "349667    Željko Ivanek  2012                 0.712241\n",
       "\n",
       "[349668 rows x 3 columns]"
      ]
     },
     "metadata": {},
     "output_type": "display_data"
    }
   ],
   "source": [
    "## 4TH STEP: CREATE DATAFRAME WITH Recognition Coefficient FOR EACH ACTOR EACH YEAR\n",
    "# Create a DataFrame with all actor-year combinations from 1914 to 2012\n",
    "years = list(range(1914, 2013))\n",
    "\n",
    "# Get unique actor names \n",
    "actors = actor_movie_year['Actor Name'].unique()\n",
    "\n",
    "# Create a MultiIndex DataFrame with all possible actor-year combinations\n",
    "actor_year_combinations = pd.MultiIndex.from_product([actors, years], names=['Actor Name', 'Year']).to_frame(index=False)\n",
    "actor_year_combinations.columns = ['Actor Name', 'Year']\n",
    "\n",
    "# Merge the actor_year_combinations DataFrame with actor_movie_year to get the coefficients\n",
    "all_actor_year = pd.merge(actor_year_combinations, actor_movie_year, on=['Actor Name', 'Year'], how='left')\n",
    "\n",
    "# Fill missing values in the 'Recognition Coefficient' column with 0\n",
    "all_actor_year['Recognition Coefficient'].fillna(0, inplace=True)\n",
    "\n",
    "# Rename 'Recognition Coefficient' to 'Actor Year Coefficient'\n",
    "all_actor_year.rename(columns={'Recognition Coefficient': 'Recognition Coefficient'}, inplace=True)\n",
    "\n",
    "# Sort the result DataFrame\n",
    "all_actor_year = all_actor_year.sort_values(by=['Year', 'Actor Name'], ascending=[True, True])\n",
    "\n",
    "# Reset the index\n",
    "all_actor_year.reset_index(drop=True, inplace=True)\n",
    "\n",
    "display(all_actor_year)"
   ]
  },
  {
   "cell_type": "markdown",
   "metadata": {},
   "source": [
    "We now have a dataframe, that has a Recognition Coefficient value for each possible (Actor Name, Year) combination.\n",
    "### Recognition of Past Years\n",
    "Even if a certain actors does not play in any movie in a certain year, We consider that this actor would remain well-recognized to a certain extent during this year. To account for this effect, we add a certain fraction of the past year's Recognition Coefficient to the the current year's Recognition Coefficient\n"
   ]
  },
  {
   "cell_type": "code",
   "execution_count": 79,
   "metadata": {},
   "outputs": [
    {
     "data": {
      "text/html": [
       "<div>\n",
       "<style scoped>\n",
       "    .dataframe tbody tr th:only-of-type {\n",
       "        vertical-align: middle;\n",
       "    }\n",
       "\n",
       "    .dataframe tbody tr th {\n",
       "        vertical-align: top;\n",
       "    }\n",
       "\n",
       "    .dataframe thead th {\n",
       "        text-align: right;\n",
       "    }\n",
       "</style>\n",
       "<table border=\"1\" class=\"dataframe\">\n",
       "  <thead>\n",
       "    <tr style=\"text-align: right;\">\n",
       "      <th></th>\n",
       "      <th>Actor Name</th>\n",
       "      <th>Year</th>\n",
       "      <th>Recognition Coefficient</th>\n",
       "      <th>Coefficient with Past</th>\n",
       "    </tr>\n",
       "  </thead>\n",
       "  <tbody>\n",
       "    <tr>\n",
       "      <th>0</th>\n",
       "      <td>50 Cent</td>\n",
       "      <td>1914</td>\n",
       "      <td>0.000000</td>\n",
       "      <td>0.000000</td>\n",
       "    </tr>\n",
       "    <tr>\n",
       "      <th>3532</th>\n",
       "      <td>50 Cent</td>\n",
       "      <td>1915</td>\n",
       "      <td>0.000000</td>\n",
       "      <td>0.000000</td>\n",
       "    </tr>\n",
       "    <tr>\n",
       "      <th>7064</th>\n",
       "      <td>50 Cent</td>\n",
       "      <td>1916</td>\n",
       "      <td>0.000000</td>\n",
       "      <td>0.000000</td>\n",
       "    </tr>\n",
       "    <tr>\n",
       "      <th>10596</th>\n",
       "      <td>50 Cent</td>\n",
       "      <td>1917</td>\n",
       "      <td>0.000000</td>\n",
       "      <td>0.000000</td>\n",
       "    </tr>\n",
       "    <tr>\n",
       "      <th>14128</th>\n",
       "      <td>50 Cent</td>\n",
       "      <td>1918</td>\n",
       "      <td>0.000000</td>\n",
       "      <td>0.000000</td>\n",
       "    </tr>\n",
       "    <tr>\n",
       "      <th>...</th>\n",
       "      <td>...</td>\n",
       "      <td>...</td>\n",
       "      <td>...</td>\n",
       "      <td>...</td>\n",
       "    </tr>\n",
       "    <tr>\n",
       "      <th>335539</th>\n",
       "      <td>Željko Ivanek</td>\n",
       "      <td>2008</td>\n",
       "      <td>0.762229</td>\n",
       "      <td>1.457332</td>\n",
       "    </tr>\n",
       "    <tr>\n",
       "      <th>339071</th>\n",
       "      <td>Željko Ivanek</td>\n",
       "      <td>2009</td>\n",
       "      <td>0.000000</td>\n",
       "      <td>0.728666</td>\n",
       "    </tr>\n",
       "    <tr>\n",
       "      <th>342603</th>\n",
       "      <td>Željko Ivanek</td>\n",
       "      <td>2010</td>\n",
       "      <td>0.000000</td>\n",
       "      <td>0.364333</td>\n",
       "    </tr>\n",
       "    <tr>\n",
       "      <th>346135</th>\n",
       "      <td>Željko Ivanek</td>\n",
       "      <td>2011</td>\n",
       "      <td>0.000000</td>\n",
       "      <td>0.182166</td>\n",
       "    </tr>\n",
       "    <tr>\n",
       "      <th>349667</th>\n",
       "      <td>Željko Ivanek</td>\n",
       "      <td>2012</td>\n",
       "      <td>0.712241</td>\n",
       "      <td>0.803324</td>\n",
       "    </tr>\n",
       "  </tbody>\n",
       "</table>\n",
       "<p>349668 rows × 4 columns</p>\n",
       "</div>"
      ],
      "text/plain": [
       "           Actor Name  Year  Recognition Coefficient  Coefficient with Past\n",
       "0             50 Cent  1914                 0.000000               0.000000\n",
       "3532          50 Cent  1915                 0.000000               0.000000\n",
       "7064          50 Cent  1916                 0.000000               0.000000\n",
       "10596         50 Cent  1917                 0.000000               0.000000\n",
       "14128         50 Cent  1918                 0.000000               0.000000\n",
       "...               ...   ...                      ...                    ...\n",
       "335539  Željko Ivanek  2008                 0.762229               1.457332\n",
       "339071  Željko Ivanek  2009                 0.000000               0.728666\n",
       "342603  Željko Ivanek  2010                 0.000000               0.364333\n",
       "346135  Željko Ivanek  2011                 0.000000               0.182166\n",
       "349667  Željko Ivanek  2012                 0.712241               0.803324\n",
       "\n",
       "[349668 rows x 4 columns]"
      ]
     },
     "metadata": {},
     "output_type": "display_data"
    }
   ],
   "source": [
    "# Recognition of Past Years\n",
    "previous_year_contribution = 0.5\n",
    "\n",
    "actor_year_df = all_actor_year.copy()\n",
    "actor_year_df.sort_values(by=['Actor Name', 'Year'], inplace=True)\n",
    "\n",
    "# Initialize a dictionary to store the previous 'Coefficient with Past' values for each actor\n",
    "prev_b_values = {}\n",
    "\n",
    "# Iterate through the rows of the DataFrame to compute the values for column 'Coefficient with Past'\n",
    "for index, row in actor_year_df.iterrows():\n",
    "    actor = row['Actor Name']\n",
    "    year = row['Year']\n",
    "    a_value = row['Recognition Coefficient']\n",
    "    \n",
    "    if actor in prev_b_values:\n",
    "        b_value = a_value + previous_year_contribution * prev_b_values[actor]\n",
    "    else:\n",
    "        b_value = a_value  # If there is no previous value, use A(actor, year) as-is\n",
    "    \n",
    "    actor_year_df.at[index, 'Coefficient with Past'] = b_value\n",
    "    prev_b_values[actor] = b_value\n",
    "\n",
    "actor_year_df['Year'] = pd.to_numeric(actor_year_df['Year'])\n",
    "\n",
    "# Display the resulting DataFrame\n",
    "actor_year_df.head(2)"
   ]
  },
  {
   "cell_type": "markdown",
   "metadata": {},
   "source": [
    "### General recognition\n",
    "Now that we have the Actor Recognition Coefficient for every Actor in every Year, we can calculate the General Actor Recognition Coefficient by calculating the mean of the Recognition Coefficient through the years"
   ]
  },
  {
   "cell_type": "code",
   "execution_count": 80,
   "metadata": {},
   "outputs": [
    {
     "data": {
      "text/html": [
       "<div>\n",
       "<style scoped>\n",
       "    .dataframe tbody tr th:only-of-type {\n",
       "        vertical-align: middle;\n",
       "    }\n",
       "\n",
       "    .dataframe tbody tr th {\n",
       "        vertical-align: top;\n",
       "    }\n",
       "\n",
       "    .dataframe thead th {\n",
       "        text-align: right;\n",
       "    }\n",
       "</style>\n",
       "<table border=\"1\" class=\"dataframe\">\n",
       "  <thead>\n",
       "    <tr style=\"text-align: right;\">\n",
       "      <th></th>\n",
       "      <th>Actor Name</th>\n",
       "      <th>Recognition Coefficient</th>\n",
       "    </tr>\n",
       "  </thead>\n",
       "  <tbody>\n",
       "    <tr>\n",
       "      <th>2227</th>\n",
       "      <td>Michael Caine</td>\n",
       "      <td>0.262233</td>\n",
       "    </tr>\n",
       "    <tr>\n",
       "      <th>2801</th>\n",
       "      <td>Robert De Niro</td>\n",
       "      <td>0.255245</td>\n",
       "    </tr>\n",
       "    <tr>\n",
       "      <th>589</th>\n",
       "      <td>Clint Eastwood</td>\n",
       "      <td>0.250396</td>\n",
       "    </tr>\n",
       "    <tr>\n",
       "      <th>2189</th>\n",
       "      <td>Max von Sydow</td>\n",
       "      <td>0.241696</td>\n",
       "    </tr>\n",
       "    <tr>\n",
       "      <th>1191</th>\n",
       "      <td>Harrison Ford</td>\n",
       "      <td>0.239249</td>\n",
       "    </tr>\n",
       "    <tr>\n",
       "      <th>553</th>\n",
       "      <td>Christopher Lee</td>\n",
       "      <td>0.238464</td>\n",
       "    </tr>\n",
       "    <tr>\n",
       "      <th>1657</th>\n",
       "      <td>John Wayne</td>\n",
       "      <td>0.236063</td>\n",
       "    </tr>\n",
       "    <tr>\n",
       "      <th>2804</th>\n",
       "      <td>Robert Duvall</td>\n",
       "      <td>0.231838</td>\n",
       "    </tr>\n",
       "    <tr>\n",
       "      <th>178</th>\n",
       "      <td>Anthony Hopkins</td>\n",
       "      <td>0.229979</td>\n",
       "    </tr>\n",
       "    <tr>\n",
       "      <th>2983</th>\n",
       "      <td>Sean Connery</td>\n",
       "      <td>0.228194</td>\n",
       "    </tr>\n",
       "    <tr>\n",
       "      <th>1196</th>\n",
       "      <td>Harry Dean Stanton</td>\n",
       "      <td>0.219613</td>\n",
       "    </tr>\n",
       "    <tr>\n",
       "      <th>3180</th>\n",
       "      <td>Sylvester Stallone</td>\n",
       "      <td>0.219497</td>\n",
       "    </tr>\n",
       "    <tr>\n",
       "      <th>1483</th>\n",
       "      <td>Jeff Bridges</td>\n",
       "      <td>0.219408</td>\n",
       "    </tr>\n",
       "    <tr>\n",
       "      <th>667</th>\n",
       "      <td>Danny DeVito</td>\n",
       "      <td>0.218177</td>\n",
       "    </tr>\n",
       "    <tr>\n",
       "      <th>3167</th>\n",
       "      <td>Susan Sarandon</td>\n",
       "      <td>0.216700</td>\n",
       "    </tr>\n",
       "    <tr>\n",
       "      <th>824</th>\n",
       "      <td>Donald Sutherland</td>\n",
       "      <td>0.216462</td>\n",
       "    </tr>\n",
       "    <tr>\n",
       "      <th>2220</th>\n",
       "      <td>Meryl Streep</td>\n",
       "      <td>0.215669</td>\n",
       "    </tr>\n",
       "    <tr>\n",
       "      <th>1328</th>\n",
       "      <td>Jack Lemmon</td>\n",
       "      <td>0.215117</td>\n",
       "    </tr>\n",
       "    <tr>\n",
       "      <th>754</th>\n",
       "      <td>Dennis Quaid</td>\n",
       "      <td>0.214849</td>\n",
       "    </tr>\n",
       "    <tr>\n",
       "      <th>3033</th>\n",
       "      <td>Shirley MacLaine</td>\n",
       "      <td>0.214037</td>\n",
       "    </tr>\n",
       "  </tbody>\n",
       "</table>\n",
       "</div>"
      ],
      "text/plain": [
       "              Actor Name  Recognition Coefficient\n",
       "2227       Michael Caine                 0.262233\n",
       "2801      Robert De Niro                 0.255245\n",
       "589       Clint Eastwood                 0.250396\n",
       "2189       Max von Sydow                 0.241696\n",
       "1191       Harrison Ford                 0.239249\n",
       "553      Christopher Lee                 0.238464\n",
       "1657          John Wayne                 0.236063\n",
       "2804       Robert Duvall                 0.231838\n",
       "178      Anthony Hopkins                 0.229979\n",
       "2983        Sean Connery                 0.228194\n",
       "1196  Harry Dean Stanton                 0.219613\n",
       "3180  Sylvester Stallone                 0.219497\n",
       "1483        Jeff Bridges                 0.219408\n",
       "667         Danny DeVito                 0.218177\n",
       "3167      Susan Sarandon                 0.216700\n",
       "824    Donald Sutherland                 0.216462\n",
       "2220        Meryl Streep                 0.215669\n",
       "1328         Jack Lemmon                 0.215117\n",
       "754         Dennis Quaid                 0.214849\n",
       "3033    Shirley MacLaine                 0.214037"
      ]
     },
     "execution_count": 80,
     "metadata": {},
     "output_type": "execute_result"
    }
   ],
   "source": [
    "general_recognition = actor_year_df.groupby(['Actor Name'])['Recognition Coefficient'].mean().reset_index()\n",
    "general_recognition = general_recognition.sort_values(by='Recognition Coefficient',ascending=False)\n",
    "(general_recognition).head(n=20)"
   ]
  },
  {
   "cell_type": "markdown",
   "metadata": {},
   "source": [
    "DIEGO: We can see that the most well-recognized actors are indeed actors that are well-known ....\n",
    "Some of them are modern-day actors like Robert De Niro. However, we can also see that older well-recognized actors are accounted for as we find actors like John Wayne and Sean Connery\n",
    "\n",
    "CONTINUE ..."
   ]
  },
  {
   "cell_type": "markdown",
   "metadata": {},
   "source": [
    "### Actor Recognition Span Evolution Through time\n",
    "In this section, the idea is to examine the span of the actors' Recognition through time. In other words, we are trying to find the year in which he started to be well-recognized and the year this recognition \"ended\". We do that by selecting the year range in which the Actor Recognition Coefficient is above a certain threshold.\n",
    "\n",
    "DIEGO: CHECK AND COMPLETE\n",
    "..."
   ]
  },
  {
   "cell_type": "code",
   "execution_count": 91,
   "metadata": {},
   "outputs": [
    {
     "data": {
      "text/html": [
       "<div>\n",
       "<style scoped>\n",
       "    .dataframe tbody tr th:only-of-type {\n",
       "        vertical-align: middle;\n",
       "    }\n",
       "\n",
       "    .dataframe tbody tr th {\n",
       "        vertical-align: top;\n",
       "    }\n",
       "\n",
       "    .dataframe thead th {\n",
       "        text-align: right;\n",
       "    }\n",
       "</style>\n",
       "<table border=\"1\" class=\"dataframe\">\n",
       "  <thead>\n",
       "    <tr style=\"text-align: right;\">\n",
       "      <th></th>\n",
       "      <th>Actor Name</th>\n",
       "      <th>First Year</th>\n",
       "      <th>Last Year</th>\n",
       "      <th>Range</th>\n",
       "    </tr>\n",
       "  </thead>\n",
       "  <tbody>\n",
       "    <tr>\n",
       "      <th>500</th>\n",
       "      <td>Charley Chase</td>\n",
       "      <td>1914</td>\n",
       "      <td>1970</td>\n",
       "      <td>56</td>\n",
       "    </tr>\n",
       "  </tbody>\n",
       "</table>\n",
       "</div>"
      ],
      "text/plain": [
       "        Actor Name  First Year  Last Year  Range\n",
       "500  Charley Chase        1914       1970     56"
      ]
     },
     "execution_count": 91,
     "metadata": {},
     "output_type": "execute_result"
    }
   ],
   "source": [
    "# Relative threshold for every actor, threshold being 30% of the Actor's Maximum Recognition\n",
    "\n",
    "# Calculate fame threshold for each actor, threshold 50% of the maximum Recognition of this actor\n",
    "fame_start_end_threshold = actor_year_df.groupby('Actor Name').max().reset_index()[['Actor Name','Recognition Coefficient']]\n",
    "fame_start_end_threshold['threshold'] = 0.5*fame_start_end_threshold['Recognition Coefficient']\n",
    "fame_start_end_threshold.drop(columns='Recognition Coefficient', inplace=True)\n",
    "\n",
    "\n",
    "# Keep Recognition Values that are above the threshold\n",
    "merged_df = pd.merge(actor_year_df, fame_start_end_threshold, on='Actor Name', how='left')\n",
    "result_df = merged_df[merged_df['Recognition Coefficient'] > merged_df['threshold']]\n",
    "\n",
    "# Find the minimum (first) and maximum (last) Year corresponding to these values\n",
    "grouped = result_df.groupby('Actor Name').agg({'Year': ['min', 'max']})\n",
    "grouped = grouped.reset_index()\n",
    "grouped.columns = ['Actor Name', 'First Year', 'Last Year']  # Rename the columns\n",
    "result_df = grouped.copy()  # Create a copy of grouped DataFrame\n",
    "\n",
    "# Calculate the Range (last year - first year)\n",
    "result_df['Range'] = result_df['Last Year'] - result_df['First Year']\n",
    "result_df = result_df.sort_values(by='First Year')\n",
    "\n",
    "result_df.head(1)"
   ]
  },
  {
   "cell_type": "code",
   "execution_count": 92,
   "metadata": {},
   "outputs": [],
   "source": [
    "## Empirical threshold\n",
    "\n",
    "# fame_start_end_threshold = 0.1\n",
    "\n",
    "# Keep Recognition Values that are above the threshold\n",
    "# filtered_actor_year_df = actor_year_df[actor_year_df['Coefficient with Past'] > fame_start_end_threshold]\n",
    "# grouped = filtered_actor_year_df.groupby('Actor Name').agg({'Year': ['min', 'max']})\n",
    "# grouped = grouped.reset_index()\n",
    "# grouped.columns = ['Actor Name', 'First Year', 'Last Year']  # Rename the columns\n",
    "# result_df = grouped.copy()  # Create a copy of grouped DataFrame\n",
    "\n",
    "# Find the minimum (first) and maximum (last) Year corresponding to these values\n",
    "# Calculate the Range (last year - first year)\n",
    "# result_df['Range'] = result_df['Last Year'] - result_df['First Year']\n",
    "# result_df = result_df.sort_values(by='First Year')\n",
    "\n",
    "# display(result_df)\n"
   ]
  },
  {
   "cell_type": "code",
   "execution_count": 93,
   "metadata": {},
   "outputs": [
    {
     "data": {
      "text/html": [
       "<div>\n",
       "<style scoped>\n",
       "    .dataframe tbody tr th:only-of-type {\n",
       "        vertical-align: middle;\n",
       "    }\n",
       "\n",
       "    .dataframe tbody tr th {\n",
       "        vertical-align: top;\n",
       "    }\n",
       "\n",
       "    .dataframe thead th {\n",
       "        text-align: right;\n",
       "    }\n",
       "</style>\n",
       "<table border=\"1\" class=\"dataframe\">\n",
       "  <thead>\n",
       "    <tr style=\"text-align: right;\">\n",
       "      <th></th>\n",
       "      <th>First Year</th>\n",
       "      <th>mean</th>\n",
       "      <th>std</th>\n",
       "    </tr>\n",
       "  </thead>\n",
       "  <tbody>\n",
       "    <tr>\n",
       "      <th>0</th>\n",
       "      <td>1914</td>\n",
       "      <td>38.333333</td>\n",
       "      <td>18.688232</td>\n",
       "    </tr>\n",
       "  </tbody>\n",
       "</table>\n",
       "</div>"
      ],
      "text/plain": [
       "   First Year       mean        std\n",
       "0        1914  38.333333  18.688232"
      ]
     },
     "execution_count": 93,
     "metadata": {},
     "output_type": "execute_result"
    }
   ],
   "source": [
    "# Group ranges for each first year by taking the mean and standard deviation of the range\n",
    "filtered_actor_year_df = result_df.sort_values(by='First Year')\n",
    "grouped_years = filtered_actor_year_df.groupby('First Year')['Range'].agg(['mean', 'std']).reset_index()\n",
    "\n",
    "grouped_years.head(1)"
   ]
  },
  {
   "cell_type": "markdown",
   "metadata": {},
   "source": [
    "# Results about Actor Recognition"
   ]
  },
  {
   "cell_type": "markdown",
   "metadata": {},
   "source": [
    "### Visualizing Average Span of Recognition through the years"
   ]
  },
  {
   "cell_type": "code",
   "execution_count": 102,
   "metadata": {},
   "outputs": [
    {
     "name": "stderr",
     "output_type": "stream",
     "text": [
      "c:\\Users\\andre\\Anaconda\\lib\\site-packages\\numpy\\core\\_methods.py:45: RuntimeWarning: invalid value encountered in reduce\n",
      "  return umr_minimum(a, axis, None, out, keepdims, initial, where)\n",
      "c:\\Users\\andre\\Anaconda\\lib\\site-packages\\numpy\\core\\_methods.py:41: RuntimeWarning: invalid value encountered in reduce\n",
      "  return umr_maximum(a, axis, None, out, keepdims, initial, where)\n"
     ]
    },
    {
     "data": {
      "image/png": "[encoded data removed]",
      "text/plain": [
       "<Figure size 1000x600 with 1 Axes>"
      ]
     },
     "metadata": {},
     "output_type": "display_data"
    }
   ],
   "source": [
    "plt.figure(figsize=(10, 6))\n",
    "plt.errorbar(grouped_years['First Year'],grouped_years['mean'],yerr= grouped_years['std'], marker='o', linestyle='-', capsize=2)\n",
    "plt.title('Average Span of Recognition through the Years')\n",
    "plt.xlabel('First Year')\n",
    "plt.ylabel('Average Span of Recognition [Years]')\n",
    "plt.grid(True)\n",
    "plt.show()"
   ]
  },
  {
   "cell_type": "markdown",
   "metadata": {},
   "source": [
    "ANALYZE THIS GRAPH (SEE IF THERE ARE OTHER RELEVANT GRAPHS)\n",
    "\n",
    "NOTE: starting about 1970 this range decrease since the data we have ends on 2012. Therefore actors starting to be recognized in 2012 (Having a First Year of 2012), would have a range of 0 years since their Last Year would also be considered to be 2012\n",
    "\n",
    "DIEGO: CHECK AND COMPLETE"
   ]
  },
  {
   "cell_type": "code",
   "execution_count": 103,
   "metadata": {},
   "outputs": [
    {
     "data": {
      "image/png": "[encoded data removed]",
      "text/plain": [
       "<Figure size 1000x600 with 1 Axes>"
      ]
     },
     "metadata": {},
     "output_type": "display_data"
    }
   ],
   "source": [
    "## PLOT FAME OF PARTICULAR ACTOR\n",
    "actor_name = 'Robert De Niro' #'Steven Spielberg'# # PUT NAME HERE\n",
    "\n",
    "particular_actor_df = actor_year_df[actor_year_df['Actor Name'] == actor_name]\n",
    "\n",
    "plt.figure(figsize=(10, 6))\n",
    "years = particular_actor_df['Year']\n",
    "coefficients = particular_actor_df['Coefficient with Past']\n",
    "\n",
    "plt.xlim(1914, 2012)\n",
    "plt.plot(years, coefficients, marker='o', linestyle='-')\n",
    "plt.title(f'Recognition Coefficient of {actor_name} through the years')\n",
    "plt.xlabel('Year')\n",
    "plt.ylabel('CoRecognition Coefficient')\n",
    "plt.grid(True)\n",
    "\n",
    "plt.show()"
   ]
  },
  {
   "cell_type": "markdown",
   "metadata": {},
   "source": [
    "# UNUSED BUT MIGHT BE USED"
   ]
  },
  {
   "cell_type": "code",
   "execution_count": 450,
   "metadata": {},
   "outputs": [
    {
     "name": "stderr",
     "output_type": "stream",
     "text": [
      "C:\\Users\\andre\\AppData\\Local\\Temp\\ipykernel_23656\\2581459468.py:10: UserWarning: Boolean Series key will be reindexed to match DataFrame index.\n",
      "  filtered_actor_year_df = filtered_actor_year_df[~actor_year_df['Actor Name'].isin(actors_to_remove)]\n"
     ]
    },
    {
     "data": {
      "text/html": [
       "<div>\n",
       "<style scoped>\n",
       "    .dataframe tbody tr th:only-of-type {\n",
       "        vertical-align: middle;\n",
       "    }\n",
       "\n",
       "    .dataframe tbody tr th {\n",
       "        vertical-align: top;\n",
       "    }\n",
       "\n",
       "    .dataframe thead th {\n",
       "        text-align: right;\n",
       "    }\n",
       "</style>\n",
       "<table border=\"1\" class=\"dataframe\">\n",
       "  <thead>\n",
       "    <tr style=\"text-align: right;\">\n",
       "      <th></th>\n",
       "      <th>Actor Name</th>\n",
       "      <th>Year</th>\n",
       "      <th>Recognition Coefficient</th>\n",
       "      <th>Coefficient with Past</th>\n",
       "    </tr>\n",
       "  </thead>\n",
       "  <tbody>\n",
       "    <tr>\n",
       "      <th>0</th>\n",
       "      <td>Abhi Bhattacharya</td>\n",
       "      <td>1914</td>\n",
       "      <td>0.0</td>\n",
       "      <td>0.000000e+00</td>\n",
       "    </tr>\n",
       "    <tr>\n",
       "      <th>1</th>\n",
       "      <td>Abhi Bhattacharya</td>\n",
       "      <td>1915</td>\n",
       "      <td>0.0</td>\n",
       "      <td>0.000000e+00</td>\n",
       "    </tr>\n",
       "    <tr>\n",
       "      <th>2</th>\n",
       "      <td>Abhi Bhattacharya</td>\n",
       "      <td>1916</td>\n",
       "      <td>0.0</td>\n",
       "      <td>0.000000e+00</td>\n",
       "    </tr>\n",
       "    <tr>\n",
       "      <th>3</th>\n",
       "      <td>Abhi Bhattacharya</td>\n",
       "      <td>1917</td>\n",
       "      <td>0.0</td>\n",
       "      <td>0.000000e+00</td>\n",
       "    </tr>\n",
       "    <tr>\n",
       "      <th>4</th>\n",
       "      <td>Abhi Bhattacharya</td>\n",
       "      <td>1918</td>\n",
       "      <td>0.0</td>\n",
       "      <td>0.000000e+00</td>\n",
       "    </tr>\n",
       "    <tr>\n",
       "      <th>...</th>\n",
       "      <td>...</td>\n",
       "      <td>...</td>\n",
       "      <td>...</td>\n",
       "      <td>...</td>\n",
       "    </tr>\n",
       "    <tr>\n",
       "      <th>86323</th>\n",
       "      <td>Zachary Scott</td>\n",
       "      <td>2008</td>\n",
       "      <td>0.0</td>\n",
       "      <td>4.708475e-08</td>\n",
       "    </tr>\n",
       "    <tr>\n",
       "      <th>86324</th>\n",
       "      <td>Zachary Scott</td>\n",
       "      <td>2009</td>\n",
       "      <td>0.0</td>\n",
       "      <td>3.295933e-08</td>\n",
       "    </tr>\n",
       "    <tr>\n",
       "      <th>86325</th>\n",
       "      <td>Zachary Scott</td>\n",
       "      <td>2010</td>\n",
       "      <td>0.0</td>\n",
       "      <td>2.307153e-08</td>\n",
       "    </tr>\n",
       "    <tr>\n",
       "      <th>86326</th>\n",
       "      <td>Zachary Scott</td>\n",
       "      <td>2011</td>\n",
       "      <td>0.0</td>\n",
       "      <td>1.615007e-08</td>\n",
       "    </tr>\n",
       "    <tr>\n",
       "      <th>86327</th>\n",
       "      <td>Zachary Scott</td>\n",
       "      <td>2012</td>\n",
       "      <td>0.0</td>\n",
       "      <td>1.130505e-08</td>\n",
       "    </tr>\n",
       "  </tbody>\n",
       "</table>\n",
       "<p>86328 rows × 4 columns</p>\n",
       "</div>"
      ],
      "text/plain": [
       "              Actor Name  Year  Recognition Coefficient  Coefficient with Past\n",
       "0      Abhi Bhattacharya  1914                      0.0           0.000000e+00\n",
       "1      Abhi Bhattacharya  1915                      0.0           0.000000e+00\n",
       "2      Abhi Bhattacharya  1916                      0.0           0.000000e+00\n",
       "3      Abhi Bhattacharya  1917                      0.0           0.000000e+00\n",
       "4      Abhi Bhattacharya  1918                      0.0           0.000000e+00\n",
       "...                  ...   ...                      ...                    ...\n",
       "86323      Zachary Scott  2008                      0.0           4.708475e-08\n",
       "86324      Zachary Scott  2009                      0.0           3.295933e-08\n",
       "86325      Zachary Scott  2010                      0.0           2.307153e-08\n",
       "86326      Zachary Scott  2011                      0.0           1.615007e-08\n",
       "86327      Zachary Scott  2012                      0.0           1.130505e-08\n",
       "\n",
       "[86328 rows x 4 columns]"
      ]
     },
     "metadata": {},
     "output_type": "display_data"
    }
   ],
   "source": [
    "## REMOVED 6TH STEP BUT MIGHT BE USEFUL LATER\n",
    "## 6TH STEP: REMOVE ACTORS WHO HAVE HAD SUCCESS BEFORE 1924 OR AFTER 2002\n",
    "## THIS ALLOWS US TO REMOVE ACTORS WHO MIGHT STARTED ACTING BEFORE THE DATASET OR WHO CONTINUED ACTING AFTER\n",
    "mask = actor_year_df[(actor_year_df['Year'] >= 2002) & (actor_year_df['Coefficient with Past'] > 0.1)]\n",
    "actors_to_remove = mask['Actor Name'].unique()\n",
    "filtered_actor_year_df = actor_year_df[~actor_year_df['Actor Name'].isin(actors_to_remove)]\n",
    "\n",
    "mask = actor_year_df[(actor_year_df['Year'] <= 1924) & (actor_year_df['Coefficient with Past'] > 0.1)]\n",
    "actors_to_remove = mask['Actor Name'].unique()\n",
    "filtered_actor_year_df = filtered_actor_year_df[~actor_year_df['Actor Name'].isin(actors_to_remove)]\n",
    "filtered_actor_year_df.reset_index(drop=True, inplace=True)\n",
    "\n",
    "display(filtered_actor_year_df)"
   ]
  },
  {
   "cell_type": "code",
   "execution_count": null,
   "metadata": {},
   "outputs": [],
   "source": [
    "## CHECKING FOR CORRECTNESS WITH Željko Ivanek IN 2012\n",
    "zelko_ivanek_df = actor_popularity_movie_coef[(actor_popularity_movie_coef['Actor Name'] == 'Željko Ivanek') & (actor_popularity_movie_coef['Year'] == 2012)]\n",
    "display(zelko_ivanek_df)"
   ]
  },
  {
   "cell_type": "code",
   "execution_count": null,
   "metadata": {},
   "outputs": [],
   "source": []
  },
  {
   "cell_type": "code",
   "execution_count": 100,
   "metadata": {},
   "outputs": [
    {
     "data": {
      "text/plain": [
       "<AxesSubplot:xlabel='Year'>"
      ]
     },
     "execution_count": 100,
     "metadata": {},
     "output_type": "execute_result"
    },
    {
     "data": {
      "image/png": "[encoded data removed]",
      "text/plain": [
       "<Figure size 640x480 with 1 Axes>"
      ]
     },
     "metadata": {},
     "output_type": "display_data"
    }
   ],
   "source": [
    "actor_year_df.groupby('Year').mean().reset_index().plot(x='Year',y='Recognition Coefficient')"
   ]
  },
  {
   "cell_type": "code",
   "execution_count": null,
   "metadata": {},
   "outputs": [],
   "source": []
  }
 ],
 "metadata": {
  "kernelspec": {
   "display_name": "ada",
   "language": "python",
   "name": "python3"
  },
  "language_info": {
   "codemirror_mode": {
    "name": "ipython",
    "version": 3
   },
   "file_extension": ".py",
   "mimetype": "text/x-python",
   "name": "python",
   "nbconvert_exporter": "python",
   "pygments_lexer": "ipython3",
   "version": "3.9.13"
  }
 },
 "nbformat": 4,
 "nbformat_minor": 2
}
